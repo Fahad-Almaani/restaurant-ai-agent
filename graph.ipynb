{
 "cells": [
  {
   "cell_type": "code",
   "execution_count": null,
   "id": "46f5a3ce",
   "metadata": {},
   "outputs": [],
   "source": [
    "from IPython.display import Image, display\n",
    "# from restaurant_order_agent import create_restaurant_workflow\n",
    "from src.main import RestaurantAIAgent\n",
    "graph_instance = RestaurantAIAgent()\n",
    "x =graph_instance.graph.graph\n",
    "try:\n",
    "    display(Image(x.get_graph().draw_mermaid_png()))\n",
    "    \n",
    "except: \n",
    "    pass"
   ]
  }
 ],
 "metadata": {
  "kernelspec": {
   "display_name": ".venv",
   "language": "python",
   "name": "python3"
  },
  "language_info": {
   "codemirror_mode": {
    "name": "ipython",
    "version": 3
   },
   "file_extension": ".py",
   "mimetype": "text/x-python",
   "name": "python",
   "nbconvert_exporter": "python",
   "pygments_lexer": "ipython3",
   "version": "3.12.10"
  }
 },
 "nbformat": 4,
 "nbformat_minor": 5
}
